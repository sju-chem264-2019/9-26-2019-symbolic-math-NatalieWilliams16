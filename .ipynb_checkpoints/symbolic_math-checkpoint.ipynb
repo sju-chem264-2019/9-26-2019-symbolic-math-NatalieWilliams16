{
 "cells": [
  {
   "cell_type": "markdown",
   "metadata": {},
   "source": [
    "# Symbolic Mathematics in Python "
   ]
  },
  {
   "cell_type": "markdown",
   "metadata": {},
   "source": [
    "There are times when you need to solve a difficult problem symbollically or analytically. If you have ever used Wolfram Alpha, then you have already done this. Sympy is a python library that allows you to do symbolic mathematics in python. "
   ]
  },
  {
   "cell_type": "code",
   "execution_count": 2,
   "metadata": {},
   "outputs": [],
   "source": [
    "import sympy as sym"
   ]
  },
  {
   "cell_type": "markdown",
   "metadata": {},
   "source": [
    "## 1. Introduction"
   ]
  },
  {
   "cell_type": "markdown",
   "metadata": {},
   "source": [
    "### Example 1.1"
   ]
  },
  {
   "cell_type": "markdown",
   "metadata": {},
   "source": [
    "If you try to write the follwing in python by itself, you will get an error telling you x is undefined:\n",
    "$$x-x$$"
   ]
  },
  {
   "cell_type": "code",
   "execution_count": 42,
   "metadata": {},
   "outputs": [
    {
     "data": {
      "image/png": "[encoded data removed]",
      "text/latex": [
       "$$0$$"
      ],
      "text/plain": [
       "0"
      ]
     },
     "execution_count": 42,
     "metadata": {},
     "output_type": "execute_result"
    }
   ],
   "source": [
    "x-x"
   ]
  },
  {
   "cell_type": "markdown",
   "metadata": {},
   "source": [
    "(The error above is on purpose). Variables in python need to be defined before you can say something specific about them"
   ]
  },
  {
   "cell_type": "code",
   "execution_count": 43,
   "metadata": {},
   "outputs": [
    {
     "data": {
      "image/png": "[encoded data removed]",
      "text/latex": [
       "$$0$$"
      ],
      "text/plain": [
       "0"
      ]
     },
     "execution_count": 43,
     "metadata": {},
     "output_type": "execute_result"
    }
   ],
   "source": [
    "x=102\n",
    "x-x"
   ]
  },
  {
   "cell_type": "markdown",
   "metadata": {},
   "source": [
    "If you are trying to show that $x-x=0$ is true for any $x$, the above answer would not be valid. Instead you can use a symbolic expression to show that it is true"
   ]
  },
  {
   "cell_type": "markdown",
   "metadata": {},
   "source": [
    "**First we define the variable as a symmbolic expression**"
   ]
  },
  {
   "cell_type": "code",
   "execution_count": 44,
   "metadata": {},
   "outputs": [],
   "source": [
    "x = sym.symbols('x')"
   ]
  },
  {
   "cell_type": "markdown",
   "metadata": {},
   "source": [
    "**Now we can use the variable in a symbolic expression**"
   ]
  },
  {
   "cell_type": "code",
   "execution_count": 45,
   "metadata": {},
   "outputs": [
    {
     "data": {
      "image/png": "[encoded data removed]",
      "text/latex": [
       "$$0$$"
      ],
      "text/plain": [
       "0"
      ]
     },
     "execution_count": 45,
     "metadata": {},
     "output_type": "execute_result"
    }
   ],
   "source": [
    "x-x"
   ]
  },
  {
   "cell_type": "markdown",
   "metadata": {},
   "source": [
    "### Example 1.2"
   ]
  },
  {
   "cell_type": "markdown",
   "metadata": {},
   "source": [
    "Sympy can be used to perform algebreic operations (among other things). Consider the following expression: $$(3a-4b)^3$$\n"
   ]
  },
  {
   "cell_type": "markdown",
   "metadata": {},
   "source": [
    "We can use symppy to expand the expression algebraically."
   ]
  },
  {
   "cell_type": "markdown",
   "metadata": {},
   "source": [
    "**First we need to define the variables as symbolic expressions**"
   ]
  },
  {
   "cell_type": "code",
   "execution_count": 46,
   "metadata": {},
   "outputs": [],
   "source": [
    "a,b = sym.symbols('a,b')"
   ]
  },
  {
   "cell_type": "markdown",
   "metadata": {},
   "source": [
    "**Side note** Notice that the left hand side of the epression has two variables being defined. Python can define more than one variable at a time:"
   ]
  },
  {
   "cell_type": "code",
   "execution_count": 47,
   "metadata": {},
   "outputs": [
    {
     "name": "stdout",
     "output_type": "stream",
     "text": [
      "10\n",
      "20\n"
     ]
    }
   ],
   "source": [
    "x1,y1 =10,20\n",
    "print(x1)\n",
    "print(y1)"
   ]
  },
  {
   "cell_type": "markdown",
   "metadata": {},
   "source": [
    "**Back to the expression** We can define an expression using the variables $a$ and $b$."
   ]
  },
  {
   "cell_type": "code",
   "execution_count": 48,
   "metadata": {},
   "outputs": [
    {
     "name": "stdout",
     "output_type": "stream",
     "text": [
      "(3*a - 4*b)**3\n"
     ]
    }
   ],
   "source": [
    "expr = (3*a-4*b)**3\n",
    "print(expr)"
   ]
  },
  {
   "cell_type": "markdown",
   "metadata": {},
   "source": [
    "We can also make it look nicer in our notebook. This doesn't affect the math, but it makes our notebook more readable."
   ]
  },
  {
   "cell_type": "code",
   "execution_count": 49,
   "metadata": {},
   "outputs": [],
   "source": [
    "sym.init_printing()"
   ]
  },
  {
   "cell_type": "code",
   "execution_count": 50,
   "metadata": {},
   "outputs": [
    {
     "data": {
      "image/png": "[encoded data removed]",
      "text/latex": [
       "$$\\left(3 a - 4 b\\right)^{3}$$"
      ],
      "text/plain": [
       "           3\n",
       "(3⋅a - 4⋅b) "
      ]
     },
     "execution_count": 50,
     "metadata": {},
     "output_type": "execute_result"
    }
   ],
   "source": [
    "expr"
   ]
  },
  {
   "cell_type": "markdown",
   "metadata": {},
   "source": [
    "**Now we expand the function algebreically**"
   ]
  },
  {
   "cell_type": "code",
   "execution_count": 51,
   "metadata": {},
   "outputs": [
    {
     "data": {
      "image/png": "[encoded data removed]",
      "text/latex": [
       "$$27 a^{3} - 108 a^{2} b + 144 a b^{2} - 64 b^{3}$$"
      ],
      "text/plain": [
       "    3        2            2       3\n",
       "27⋅a  - 108⋅a ⋅b + 144⋅a⋅b  - 64⋅b "
      ]
     },
     "execution_count": 51,
     "metadata": {},
     "output_type": "execute_result"
    }
   ],
   "source": [
    "expr.expand()"
   ]
  },
  {
   "cell_type": "markdown",
   "metadata": {},
   "source": [
    "Sympy can also factor the equation"
   ]
  },
  {
   "cell_type": "code",
   "execution_count": 52,
   "metadata": {},
   "outputs": [
    {
     "data": {
      "image/png": "[encoded data removed]",
      "text/latex": [
       "$$2 \\left(a - 2 b\\right) \\left(13 a^{2} - 28 a b + 16 b^{2}\\right)$$"
      ],
      "text/plain": [
       "            ⎛    2                2⎞\n",
       "2⋅(a - 2⋅b)⋅⎝13⋅a  - 28⋅a⋅b + 16⋅b ⎠"
      ]
     },
     "execution_count": 52,
     "metadata": {},
     "output_type": "execute_result"
    }
   ],
   "source": [
    "sym.factor(26*a**3-108*a**2*b+144*a*b**2-64*b**3)"
   ]
  },
  {
   "cell_type": "markdown",
   "metadata": {},
   "source": [
    "\n",
    "If you want to copy and paste a result, you print the result."
   ]
  },
  {
   "cell_type": "code",
   "execution_count": 53,
   "metadata": {},
   "outputs": [
    {
     "name": "stdout",
     "output_type": "stream",
     "text": [
      "2*(a - 2*b)*(13*a**2 - 28*a*b + 16*b**2)\n"
     ]
    }
   ],
   "source": [
    "print(sym.factor(26*a**3-108*a**2*b+144*a*b**2-64*b**3))"
   ]
  },
  {
   "cell_type": "markdown",
   "metadata": {},
   "source": [
    "You can also chain together functions"
   ]
  },
  {
   "cell_type": "code",
   "execution_count": 54,
   "metadata": {},
   "outputs": [
    {
     "data": {
      "image/png": "[encoded data removed]",
      "text/latex": [
       "$$\\left(3 a - 4 b\\right)^{3}$$"
      ],
      "text/plain": [
       "           3\n",
       "(3⋅a - 4⋅b) "
      ]
     },
     "execution_count": 54,
     "metadata": {},
     "output_type": "execute_result"
    }
   ],
   "source": [
    "expr.expand().factor()"
   ]
  },
  {
   "cell_type": "markdown",
   "metadata": {},
   "source": [
    "### Exercise 1.1\n",
    "\n",
    "Show that the following two expressions are true.\n",
    "$$(2w-3z)(2w+3z)=4w^2-9z^2$$\n",
    "$$(2w-3z)^2\\ne4w^2-9z^2$$"
   ]
  },
  {
   "cell_type": "code",
   "execution_count": 55,
   "metadata": {},
   "outputs": [
    {
     "name": "stdout",
     "output_type": "stream",
     "text": [
      "4*w**2 - 9*z**2\n",
      "4*w**2 - 12*w*z + 9*z**2\n",
      "This proves the second equation is not true\n"
     ]
    }
   ],
   "source": [
    "w,z = sym.symbols('w,z')\n",
    "expr = (2*w-3*z)*(2*w+3*z)\n",
    "expr.expand()\n",
    "expr2= (2*w-3*z)**2\n",
    "expr2.expand()\n",
    "print(expr.expand())\n",
    "print(expr2.expand())\n",
    "print(\"This proves the second equation is not true\")\n",
    "\n",
    "\n"
   ]
  },
  {
   "cell_type": "code",
   "execution_count": 56,
   "metadata": {},
   "outputs": [],
   "source": [
    "## 2. Solving Equations\n",
    "#Sympy can be used to symbolilically solve equations. As before, you need to define which variables are symbols"
   ]
  },
  {
   "cell_type": "markdown",
   "metadata": {},
   "source": [
    "### Example 2.1"
   ]
  },
  {
   "cell_type": "markdown",
   "metadata": {},
   "source": [
    "Use sympy to solve the following equation\n",
    "$$ax^3+bx^2+cx+d=0$$"
   ]
  },
  {
   "cell_type": "code",
   "execution_count": 57,
   "metadata": {},
   "outputs": [],
   "source": [
    "# Define the variables\n",
    "a,b,c,d,x = sym.symbols('a,b,c,d,x')"
   ]
  },
  {
   "cell_type": "code",
   "execution_count": 58,
   "metadata": {},
   "outputs": [
    {
     "data": {
      "image/png": "[encoded data removed]",
      "text/latex": [
       "$$a x^{3} + b x^{2} + c x + d$$"
      ],
      "text/plain": [
       "   3      2          \n",
       "a⋅x  + b⋅x  + c⋅x + d"
      ]
     },
     "execution_count": 58,
     "metadata": {},
     "output_type": "execute_result"
    }
   ],
   "source": [
    "# Define the expression\n",
    "expr=a*x**3+b*x**2+c*x+d\n",
    "expr"
   ]
  },
  {
   "cell_type": "markdown",
   "metadata": {},
   "source": [
    "We can use the `solvset` function to solve this equation"
   ]
  },
  {
   "cell_type": "code",
   "execution_count": 59,
   "metadata": {},
   "outputs": [],
   "source": [
    "solutions=sym.solveset(expr,x)"
   ]
  },
  {
   "cell_type": "code",
   "execution_count": 60,
   "metadata": {},
   "outputs": [
    {
     "name": "stdout",
     "output_type": "stream",
     "text": [
      "{-(-3*c/a + b**2/a**2)/(3*(sqrt(-4*(-3*c/a + b**2/a**2)**3 + (27*d/a - 9*b*c/a**2 + 2*b**3/a**3)**2)/2 + 27*d/(2*a) - 9*b*c/(2*a**2) + b**3/a**3)**(1/3)) - (sqrt(-4*(-3*c/a + b**2/a**2)**3 + (27*d/a - 9*b*c/a**2 + 2*b**3/a**3)**2)/2 + 27*d/(2*a) - 9*b*c/(2*a**2) + b**3/a**3)**(1/3)/3 - b/(3*a), -(-3*c/a + b**2/a**2)/(3*(-1/2 - sqrt(3)*I/2)*(sqrt(-4*(-3*c/a + b**2/a**2)**3 + (27*d/a - 9*b*c/a**2 + 2*b**3/a**3)**2)/2 + 27*d/(2*a) - 9*b*c/(2*a**2) + b**3/a**3)**(1/3)) - (-1/2 - sqrt(3)*I/2)*(sqrt(-4*(-3*c/a + b**2/a**2)**3 + (27*d/a - 9*b*c/a**2 + 2*b**3/a**3)**2)/2 + 27*d/(2*a) - 9*b*c/(2*a**2) + b**3/a**3)**(1/3)/3 - b/(3*a), -(-3*c/a + b**2/a**2)/(3*(-1/2 + sqrt(3)*I/2)*(sqrt(-4*(-3*c/a + b**2/a**2)**3 + (27*d/a - 9*b*c/a**2 + 2*b**3/a**3)**2)/2 + 27*d/(2*a) - 9*b*c/(2*a**2) + b**3/a**3)**(1/3)) - (-1/2 + sqrt(3)*I/2)*(sqrt(-4*(-3*c/a + b**2/a**2)**3 + (27*d/a - 9*b*c/a**2 + 2*b**3/a**3)**2)/2 + 27*d/(2*a) - 9*b*c/(2*a**2) + b**3/a**3)**(1/3)/3 - b/(3*a)}\n"
     ]
    }
   ],
   "source": [
    "print(solutions)"
   ]
  },
  {
   "cell_type": "code",
   "execution_count": 61,
   "metadata": {},
   "outputs": [
    {
     "data": {
      "image/png": "[encoded data removed]",
      "text/latex": [
       "$$\\left\\{- \\frac{- \\frac{3 c}{a} + \\frac{b^{2}}{a^{2}}}{3 \\sqrt[3]{\\frac{\\sqrt{- 4 \\left(- \\frac{3 c}{a} + \\frac{b^{2}}{a^{2}}\\right)^{3} + \\left(\\frac{27 d}{a} - \\frac{9 b c}{a^{2}} + \\frac{2 b^{3}}{a^{3}}\\right)^{2}}}{2} + \\frac{27 d}{2 a} - \\frac{9 b c}{2 a^{2}} + \\frac{b^{3}}{a^{3}}}} - \\frac{\\sqrt[3]{\\frac{\\sqrt{- 4 \\left(- \\frac{3 c}{a} + \\frac{b^{2}}{a^{2}}\\right)^{3} + \\left(\\frac{27 d}{a} - \\frac{9 b c}{a^{2}} + \\frac{2 b^{3}}{a^{3}}\\right)^{2}}}{2} + \\frac{27 d}{2 a} - \\frac{9 b c}{2 a^{2}} + \\frac{b^{3}}{a^{3}}}}{3} - \\frac{b}{3 a}, - \\frac{- \\frac{3 c}{a} + \\frac{b^{2}}{a^{2}}}{3 \\left(- \\frac{1}{2} - \\frac{\\sqrt{3} i}{2}\\right) \\sqrt[3]{\\frac{\\sqrt{- 4 \\left(- \\frac{3 c}{a} + \\frac{b^{2}}{a^{2}}\\right)^{3} + \\left(\\frac{27 d}{a} - \\frac{9 b c}{a^{2}} + \\frac{2 b^{3}}{a^{3}}\\right)^{2}}}{2} + \\frac{27 d}{2 a} - \\frac{9 b c}{2 a^{2}} + \\frac{b^{3}}{a^{3}}}} - \\frac{\\left(- \\frac{1}{2} - \\frac{\\sqrt{3} i}{2}\\right) \\sqrt[3]{\\frac{\\sqrt{- 4 \\left(- \\frac{3 c}{a} + \\frac{b^{2}}{a^{2}}\\right)^{3} + \\left(\\frac{27 d}{a} - \\frac{9 b c}{a^{2}} + \\frac{2 b^{3}}{a^{3}}\\right)^{2}}}{2} + \\frac{27 d}{2 a} - \\frac{9 b c}{2 a^{2}} + \\frac{b^{3}}{a^{3}}}}{3} - \\frac{b}{3 a}, - \\frac{- \\frac{3 c}{a} + \\frac{b^{2}}{a^{2}}}{3 \\left(- \\frac{1}{2} + \\frac{\\sqrt{3} i}{2}\\right) \\sqrt[3]{\\frac{\\sqrt{- 4 \\left(- \\frac{3 c}{a} + \\frac{b^{2}}{a^{2}}\\right)^{3} + \\left(\\frac{27 d}{a} - \\frac{9 b c}{a^{2}} + \\frac{2 b^{3}}{a^{3}}\\right)^{2}}}{2} + \\frac{27 d}{2 a} - \\frac{9 b c}{2 a^{2}} + \\frac{b^{3}}{a^{3}}}} - \\frac{\\left(- \\frac{1}{2} + \\frac{\\sqrt{3} i}{2}\\right) \\sqrt[3]{\\frac{\\sqrt{- 4 \\left(- \\frac{3 c}{a} + \\frac{b^{2}}{a^{2}}\\right)^{3} + \\left(\\frac{27 d}{a} - \\frac{9 b c}{a^{2}} + \\frac{2 b^{3}}{a^{3}}\\right)^{2}}}{2} + \\frac{27 d}{2 a} - \\frac{9 b c}{2 a^{2}} + \\frac{b^{3}}{a^{3}}}}{3} - \\frac{b}{3 a}\\right\\}$$"
      ],
      "text/plain": [
       "⎧                                                                             \n",
       "⎪                                                                             \n",
       "⎪                                                                             \n",
       "⎪                                                                             \n",
       "⎪                                                                             \n",
       "⎪                                                                             \n",
       "⎪                                                 2                           \n",
       "⎪                                          3⋅c   b                            \n",
       "⎪                                        - ─── + ──                           \n",
       "⎪                                           a     2                           \n",
       "⎪                                                a                            \n",
       "⎨- ───────────────────────────────────────────────────────────────────────────\n",
       "⎪               ______________________________________________________________\n",
       "⎪              ╱        ____________________________________________          \n",
       "⎪             ╱        ╱                 3                        2           \n",
       "⎪            ╱        ╱      ⎛         2⎞    ⎛                  3⎞            \n",
       "⎪           ╱        ╱       ⎜  3⋅c   b ⎟    ⎜27⋅d   9⋅b⋅c   2⋅b ⎟            \n",
       "⎪          ╱        ╱    - 4⋅⎜- ─── + ──⎟  + ⎜──── - ───── + ────⎟            \n",
       "⎪         ╱        ╱         ⎜   a     2⎟    ⎜ a        2      3 ⎟            \n",
       "⎪        ╱       ╲╱          ⎝        a ⎠    ⎝         a      a  ⎠     27⋅d   \n",
       "⎪  3⋅   ╱        ─────────────────────────────────────────────────── + ──── - \n",
       "⎪    3 ╱                                  2                            2⋅a    \n",
       "⎩    ╲╱                                                                       \n",
       "\n",
       "                         _____________________________________________________\n",
       "                        ╱        ____________________________________________ \n",
       "                       ╱        ╱                 3                        2  \n",
       "                      ╱        ╱      ⎛         2⎞    ⎛                  3⎞   \n",
       "                     ╱        ╱       ⎜  3⋅c   b ⎟    ⎜27⋅d   9⋅b⋅c   2⋅b ⎟   \n",
       "                    ╱        ╱    - 4⋅⎜- ─── + ──⎟  + ⎜──── - ───── + ────⎟   \n",
       "                   ╱        ╱         ⎜   a     2⎟    ⎜ a        2      3 ⎟   \n",
       "                  ╱       ╲╱          ⎝        a ⎠    ⎝         a      a  ⎠   \n",
       "                 ╱        ─────────────────────────────────────────────────── \n",
       "              3 ╱                                  2                          \n",
       "              ╲╱                                                              \n",
       "─────────── - ────────────────────────────────────────────────────────────────\n",
       "___________                                            3                      \n",
       "                                                                              \n",
       "                                                                              \n",
       "                                                                              \n",
       "                                                                              \n",
       "                                                                              \n",
       "         3                                                                    \n",
       "9⋅b⋅c   b                                                                     \n",
       "───── + ──                                                                    \n",
       "    2    3                                                                    \n",
       " 2⋅a    a                                                                     \n",
       "\n",
       "____________________                                                          \n",
       "                                                                              \n",
       "                                                                              \n",
       "                                                                              \n",
       "                                                                              \n",
       "                                                                              \n",
       "                  3                                                           \n",
       "  27⋅d   9⋅b⋅c   b                                                           3\n",
       "+ ──── - ───── + ──                                                        - ─\n",
       "  2⋅a        2    3                                                           \n",
       "          2⋅a    a      b                                                     \n",
       "──────────────────── - ───, - ────────────────────────────────────────────────\n",
       "                       3⋅a                              ______________________\n",
       "                                                       ╱        ______________\n",
       "                                                      ╱        ╱              \n",
       "                                                     ╱        ╱      ⎛        \n",
       "                                                    ╱        ╱       ⎜  3⋅c   \n",
       "                                                   ╱        ╱    - 4⋅⎜- ─── + \n",
       "                                                  ╱        ╱         ⎜   a    \n",
       "                                ⎛  1   √3⋅ⅈ⎞     ╱       ╲╱          ⎝        \n",
       "                              3⋅⎜- ─ - ────⎟⋅   ╱        ─────────────────────\n",
       "                                ⎝  2    2  ⎠ 3 ╱                              \n",
       "                                             ╲╱                               \n",
       "\n",
       "                                                                              \n",
       "                                                                             ╱\n",
       "                                                                            ╱ \n",
       "                                                                           ╱  \n",
       "                                                                          ╱   \n",
       "                                                                         ╱    \n",
       "      2                                                                 ╱     \n",
       "⋅c   b                                                ⎛  1   √3⋅ⅈ⎞     ╱      \n",
       "── + ──                                               ⎜- ─ - ────⎟⋅   ╱       \n",
       "a     2                                               ⎝  2    2  ⎠ 3 ╱        \n",
       "     a                                                             ╲╱         \n",
       "─────────────────────────────────────────────────── - ────────────────────────\n",
       "___________________________________________________                           \n",
       "______________________________                                                \n",
       "   3                        2                                                 \n",
       " 2⎞    ⎛                  3⎞                                                  \n",
       "b ⎟    ⎜27⋅d   9⋅b⋅c   2⋅b ⎟                                                  \n",
       "──⎟  + ⎜──── - ───── + ────⎟                                                  \n",
       " 2⎟    ⎜ a        2      3 ⎟                     3                            \n",
       "a ⎠    ⎝         a      a  ⎠     27⋅d   9⋅b⋅c   b                             \n",
       "────────────────────────────── + ──── - ───── + ──                            \n",
       "    2                            2⋅a        2    3                            \n",
       "                                         2⋅a    a                             \n",
       "\n",
       "_________________________________________________________________________     \n",
       "        ____________________________________________                          \n",
       "       ╱                 3                        2                           \n",
       "      ╱      ⎛         2⎞    ⎛                  3⎞                            \n",
       "     ╱       ⎜  3⋅c   b ⎟    ⎜27⋅d   9⋅b⋅c   2⋅b ⎟                            \n",
       "    ╱    - 4⋅⎜- ─── + ──⎟  + ⎜──── - ───── + ────⎟                            \n",
       "   ╱         ⎜   a     2⎟    ⎜ a        2      3 ⎟                     3      \n",
       " ╲╱          ⎝        a ⎠    ⎝         a      a  ⎠     27⋅d   9⋅b⋅c   b       \n",
       " ─────────────────────────────────────────────────── + ──── - ───── + ──      \n",
       "                          2                            2⋅a        2    3      \n",
       "                                                               2⋅a    a      b\n",
       "───────────────────────────────────────────────────────────────────────── - ──\n",
       "                        3                                                   3⋅\n",
       "                                                                              \n",
       "                                                                              \n",
       "                                                                              \n",
       "                                                                              \n",
       "                                                                              \n",
       "                                                                              \n",
       "                                                                              \n",
       "                                                                              \n",
       "                                                                              \n",
       "                                                                              \n",
       "\n",
       "                                                                              \n",
       "                                                                              \n",
       "                                                                              \n",
       "                                                                              \n",
       "                                                                              \n",
       "                                                                              \n",
       "                                                           2                  \n",
       "                                                    3⋅c   b                   \n",
       "                                                  - ─── + ──                  \n",
       "                                                     a     2                  \n",
       "                                                          a                   \n",
       "─, - ─────────────────────────────────────────────────────────────────────────\n",
       "a                              _______________________________________________\n",
       "                              ╱        _______________________________________\n",
       "                             ╱        ╱                 3                     \n",
       "                            ╱        ╱      ⎛         2⎞    ⎛                 \n",
       "                           ╱        ╱       ⎜  3⋅c   b ⎟    ⎜27⋅d   9⋅b⋅c   2⋅\n",
       "                          ╱        ╱    - 4⋅⎜- ─── + ──⎟  + ⎜──── - ───── + ──\n",
       "                         ╱        ╱         ⎜   a     2⎟    ⎜ a        2      \n",
       "       ⎛  1   √3⋅ⅈ⎞     ╱       ╲╱          ⎝        a ⎠    ⎝         a      a\n",
       "     3⋅⎜- ─ + ────⎟⋅   ╱        ──────────────────────────────────────────────\n",
       "       ⎝  2    2  ⎠ 3 ╱                                  2                    \n",
       "                    ╲╱                                                        \n",
       "\n",
       "                                                     _________________________\n",
       "                                                    ╱        _________________\n",
       "                                                   ╱        ╱                 \n",
       "                                                  ╱        ╱      ⎛         2⎞\n",
       "                                                 ╱        ╱       ⎜  3⋅c   b ⎟\n",
       "                                                ╱        ╱    - 4⋅⎜- ─── + ──⎟\n",
       "                                               ╱        ╱         ⎜   a     2⎟\n",
       "                             ⎛  1   √3⋅ⅈ⎞     ╱       ╲╱          ⎝        a ⎠\n",
       "                             ⎜- ─ + ────⎟⋅   ╱        ────────────────────────\n",
       "                             ⎝  2    2  ⎠ 3 ╱                                 \n",
       "                                          ╲╱                                  \n",
       "────────────────────────── - ─────────────────────────────────────────────────\n",
       "__________________________                                                   3\n",
       "_____                                                                         \n",
       "   2                                                                          \n",
       " 3⎞                                                                           \n",
       "b ⎟                                                                           \n",
       "──⎟                                                                           \n",
       "3 ⎟                     3                                                     \n",
       "  ⎠     27⋅d   9⋅b⋅c   b                                                      \n",
       "───── + ──── - ───── + ──                                                     \n",
       "        2⋅a        2    3                                                     \n",
       "                2⋅a    a                                                      \n",
       "\n",
       "________________________________________________      ⎫\n",
       "___________________________                           ⎪\n",
       "3                        2                            ⎪\n",
       "    ⎛                  3⎞                             ⎪\n",
       "    ⎜27⋅d   9⋅b⋅c   2⋅b ⎟                             ⎪\n",
       "  + ⎜──── - ───── + ────⎟                             ⎪\n",
       "    ⎜ a        2      3 ⎟                     3       ⎪\n",
       "    ⎝         a      a  ⎠     27⋅d   9⋅b⋅c   b        ⎪\n",
       "─────────────────────────── + ──── - ───── + ──       ⎪\n",
       " 2                            2⋅a        2    3       ⎪\n",
       "                                      2⋅a    a      b ⎪\n",
       "──────────────────────────────────────────────── - ───⎬\n",
       "                                                   3⋅a⎪\n",
       "                                                      ⎪\n",
       "                                                      ⎪\n",
       "                                                      ⎪\n",
       "                                                      ⎪\n",
       "                                                      ⎪\n",
       "                                                      ⎪\n",
       "                                                      ⎪\n",
       "                                                      ⎪\n",
       "                                                      ⎪\n",
       "                                                      ⎭"
      ]
     },
     "execution_count": 61,
     "metadata": {},
     "output_type": "execute_result"
    }
   ],
   "source": [
    "solutions"
   ]
  },
  {
   "cell_type": "markdown",
   "metadata": {},
   "source": [
    "What if I need help. You can do this with any python function. `function?`"
   ]
  },
  {
   "cell_type": "code",
   "execution_count": 62,
   "metadata": {},
   "outputs": [],
   "source": [
    "# Run this command to see a help box\n",
    "sym.solveset?"
   ]
  },
  {
   "cell_type": "markdown",
   "metadata": {},
   "source": [
    "### Exercise 2.1\n",
    "\n",
    "Use the `solveset` function to solve the following chemical problem."
   ]
  },
  {
   "cell_type": "markdown",
   "metadata": {},
   "source": [
    "Phosgene gas, $\\text{COCl}_2$, dissociates at high temperatures according to the following equilibrium:\n",
    "    \n",
    "$$ \\text{COCl}_2 \\rightleftharpoons  \\text{CO} + \\text{Cl}_2 $$\n",
    "\n",
    "At $\\text{400 C}$, the equilibrium constant $K_c=8.05$.  \n",
    "\n",
    "If you start with a  $\\text{0.250 M}$ phosgene sample at $\\text{400 C}$, determine the concentrations of all species at equilibrium."
   ]
  },
  {
   "cell_type": "code",
   "execution_count": 63,
   "metadata": {},
   "outputs": [
    {
     "data": {
      "image/png": "[encoded data removed]",
      "text/latex": [
       "$$\\left\\{-8.29268379803378, 0.242683798033777\\right\\}$$"
      ],
      "text/plain": [
       "{-8.29268379803378, 0.242683798033777}"
      ]
     },
     "execution_count": 63,
     "metadata": {},
     "output_type": "execute_result"
    }
   ],
   "source": [
    "# Your code here\n",
    "#x^2/(.250-x) - 8.05\n",
    "#sym.solveset(f, symbol=x)\n",
    "x = sym.symbols('x')\n",
    "sym.solveset(x**2/(.250-x)-8.05,x)\n"
   ]
  },
  {
   "cell_type": "code",
   "execution_count": 64,
   "metadata": {},
   "outputs": [
    {
     "name": "stdout",
     "output_type": "stream",
     "text": [
      "The answer should be 0.242683798033777 because the concentration should be positive\n"
     ]
    }
   ],
   "source": [
    "#Why did you pick your answer?\n",
    "print(\"The answer should be 0.242683798033777 because the concentration should be positive\")"
   ]
  },
  {
   "cell_type": "markdown",
   "metadata": {},
   "source": []
  },
  {
   "cell_type": "markdown",
   "metadata": {},
   "source": [
    "## 3. Calculus"
   ]
  },
  {
   "cell_type": "markdown",
   "metadata": {},
   "source": [
    "We can use also Sympy to differentiate and integrate. Let us experiment with differentiating the following expression:\n",
    "\n",
    "$$x ^ 2 - \\cos(x)$$"
   ]
  },
  {
   "cell_type": "code",
   "execution_count": 65,
   "metadata": {},
   "outputs": [
    {
     "data": {
      "image/png": "[encoded data removed]",
      "text/latex": [
       "$$2 x + \\sin{\\left (x \\right )}$$"
      ],
      "text/plain": [
       "2⋅x + sin(x)"
      ]
     },
     "execution_count": 65,
     "metadata": {},
     "output_type": "execute_result"
    }
   ],
   "source": [
    "sym.diff(x ** 2 - sym.cos(x), x)"
   ]
  },
  {
   "cell_type": "markdown",
   "metadata": {},
   "source": [
    "Similarly we can integrate:"
   ]
  },
  {
   "cell_type": "code",
   "execution_count": 66,
   "metadata": {},
   "outputs": [
    {
     "data": {
      "image/png": "[encoded data removed]",
      "text/latex": [
       "$$\\frac{x^{3}}{3} - \\sin{\\left (x \\right )}$$"
      ],
      "text/plain": [
       " 3         \n",
       "x          \n",
       "── - sin(x)\n",
       "3          "
      ]
     },
     "execution_count": 66,
     "metadata": {},
     "output_type": "execute_result"
    }
   ],
   "source": [
    "sym.integrate(x ** 2 - sym.cos(x), x)"
   ]
  },
  {
   "cell_type": "markdown",
   "metadata": {},
   "source": [
    "We can also carry out definite integrals:"
   ]
  },
  {
   "cell_type": "code",
   "execution_count": 67,
   "metadata": {},
   "outputs": [
    {
     "data": {
      "image/png": "[encoded data removed]",
      "text/latex": [
       "$$- \\sin{\\left (5 \\right )} + \\frac{125}{3}$$"
      ],
      "text/plain": [
       "-sin(5) + 125/3"
      ]
     },
     "execution_count": 67,
     "metadata": {},
     "output_type": "execute_result"
    }
   ],
   "source": [
    "sym.integrate(x ** 2 - sym.cos(x), (x, 0, 5))"
   ]
  },
  {
   "cell_type": "markdown",
   "metadata": {},
   "source": [
    "### Exercise 3.1\n",
    "\n",
    "Use Sympy to calculate the following:\n",
    "\n",
    "1. $\\frac{d(x ^2 + xy - \\ln(y))}{dy}$\n",
    "1. $\\int_0^5 e^{2x}\\;dx$"
   ]
  },
  {
   "cell_type": "code",
   "execution_count": 68,
   "metadata": {},
   "outputs": [
    {
     "data": {
      "image/png": "[encoded data removed]",
      "text/latex": [
       "$$2 x + y$$"
      ],
      "text/plain": [
       "2⋅x + y"
      ]
     },
     "execution_count": 68,
     "metadata": {},
     "output_type": "execute_result"
    }
   ],
   "source": [
    "x,y = sym.symbols('x,y')\n",
    "sym.diff(x ** 2 + x*y-sym.ln(y), x)"
   ]
  },
  {
   "cell_type": "code",
   "execution_count": 8,
   "metadata": {},
   "outputs": [
    {
     "data": {
      "text/plain": [
       "-1/2 + exp(10)/2"
      ]
     },
     "execution_count": 8,
     "metadata": {},
     "output_type": "execute_result"
    }
   ],
   "source": [
    "#This took me forevverrrr\n",
    "import sympy as sym\n",
    "import numpy as num\n",
    "import math\n",
    "from sympy import exp\n",
    "x = sym.symbols('x')\n",
    "integ = exp(2*x)\n",
    "sym.integrate(integ,(x,0,5))\n"
   ]
  },
  {
   "cell_type": "markdown",
   "metadata": {},
   "source": [
    "### Exercise 3.2\n",
    "Solve the following definate integral\n",
    "$$\\int\\limits_{ - \\infty }^\\infty  {\\frac{1}{{\\sigma \\sqrt {2\\pi } }}{e^{ - \\frac{1}{2}{{\\left( {\\frac{{x - \\mu }}{\\sigma }} \\right)}^2}}}}$$"
   ]
  },
  {
   "cell_type": "markdown",
   "metadata": {},
   "source": [
    "Hint, the sympy symbol for infinity is `oo`"
   ]
  },
  {
   "cell_type": "code",
   "execution_count": 35,
   "metadata": {},
   "outputs": [
    {
     "data": {
      "image/png": "[encoded data removed]",
      "text/latex": [
       "$$\\frac{\\infty e^{- \\frac{0.5 \\left(- b + z\\right)^{2}}{c^{2}}}}{c}$$"
      ],
      "text/plain": [
       "                  2 \n",
       "     -0.5⋅(-b + z)  \n",
       "     ───────────────\n",
       "             2      \n",
       "            c       \n",
       "inf⋅ℯ               \n",
       "────────────────────\n",
       "         c          "
      ]
     },
     "execution_count": 35,
     "metadata": {},
     "output_type": "execute_result"
    }
   ],
   "source": [
    "# Your code here\n",
    "import math\n",
    "import sympy as sym\n",
    "import numpy as num\n",
    "from sympy import exp\n",
    "from sympy import sqrt \n",
    "\n",
    "sym.init_printing()\n",
    "\n",
    "z,b,c = sym.symbols('z,b,c')\n",
    "g1= exp((-1/2)*((z - b)/c)**2)\n",
    "g2=(1/c*sqrt(2*num.pi))\n",
    "gaussian= g1*g2\n",
    "sym.integrate(gaussian,(x,'-oo','oo'))\n",
    "\n"
   ]
  },
  {
   "cell_type": "markdown",
   "metadata": {},
   "source": [
    "Lookup Gaussian functions: https://en.wikipedia.org/wiki/Gaussian_function\n",
    "Does your answer maake sense?"
   ]
  },
  {
   "cell_type": "markdown",
   "metadata": {},
   "source": [
    "## 4. Plotting with Sympy\n",
    "\n",
    "Finally Sympy can be used to plot functions. Note that this makes use of [matplotlib](http://matplotlib.org/). "
   ]
  },
  {
   "cell_type": "markdown",
   "metadata": {},
   "source": [
    "Let us plot $x^2$:"
   ]
  },
  {
   "cell_type": "code",
   "execution_count": 40,
   "metadata": {},
   "outputs": [
    {
     "data": {
      "image/png": "[encoded data removed]",
      "text/plain": [
       "<Figure size 432x288 with 1 Axes>"
      ]
     },
     "metadata": {
      "needs_background": "light"
     },
     "output_type": "display_data"
    }
   ],
   "source": [
    "expr = x **2\n",
    "p=sym.plot(expr)"
   ]
  },
  {
   "cell_type": "markdown",
   "metadata": {},
   "source": [
    "### Exercise 4.1 Plot the following function:\n",
    "\n",
    "1. $y=x + cos(x)$\n",
    "1. ${\\frac{1}{{ \\sqrt {2\\pi } }}{e^{ - \\frac{x^2}{2}}}}$"
   ]
  },
  {
   "cell_type": "code",
   "execution_count": 47,
   "metadata": {},
   "outputs": [
    {
     "data": {
      "image/png": "[encoded data removed]",
      "text/plain": [
       "<Figure size 432x288 with 1 Axes>"
      ]
     },
     "metadata": {
      "needs_background": "light"
     },
     "output_type": "display_data"
    }
   ],
   "source": [
    "x = sym.symbols('x')\n",
    "e1 = x+sym.cos(x)\n",
    "p1 = sym.plot(e1)"
   ]
  },
  {
   "cell_type": "code",
   "execution_count": 51,
   "metadata": {},
   "outputs": [
    {
     "data": {
      "image/png": "[encoded data removed]",
      "text/plain": [
       "<Figure size 432x288 with 1 Axes>"
      ]
     },
     "metadata": {
      "needs_background": "light"
     },
     "output_type": "display_data"
    }
   ],
   "source": [
    "x = sym.symbols('x')\n",
    "e1 = (1/sqrt(2*num.pi))\n",
    "e2 = exp((-x**2)/2)\n",
    "gaussian= e1*e2\n",
    "p1 = sym.plot(gaussian)"
   ]
  },
  {
   "cell_type": "markdown",
   "metadata": {},
   "source": [
    "# Lecture"
   ]
  },
  {
   "cell_type": "markdown",
   "metadata": {},
   "source": [
    "## L1. Hydrogen Atom\n",
    "\n",
    "Sympy has built in modules for the eigenfunctions of the hydrogen atom. "
   ]
  },
  {
   "cell_type": "code",
   "execution_count": null,
   "metadata": {},
   "outputs": [],
   "source": []
  },
  {
   "cell_type": "code",
   "execution_count": 65,
   "metadata": {},
   "outputs": [],
   "source": [
    "import sympy.physics.hydrogen\n",
    "import numpy as np"
   ]
  },
  {
   "cell_type": "markdown",
   "metadata": {},
   "source": [
    "You can caluclate the eigenvalues ($E$) in Hartrees\n",
    "\n",
    "`sym.physics.hydrogen.E_nl(n,Z)`"
   ]
  },
  {
   "cell_type": "code",
   "execution_count": 66,
   "metadata": {},
   "outputs": [
    {
     "data": {
      "image/png": "[encoded data removed]",
      "text/latex": [
       "$$- \\frac{1}{2}$$"
      ],
      "text/plain": [
       "-1/2"
      ]
     },
     "execution_count": 66,
     "metadata": {},
     "output_type": "execute_result"
    }
   ],
   "source": [
    "sym.physics.hydrogen.E_nl(1,1)"
   ]
  },
  {
   "cell_type": "markdown",
   "metadata": {},
   "source": [
    "We can use a loop to print out many energies"
   ]
  },
  {
   "cell_type": "code",
   "execution_count": 67,
   "metadata": {},
   "outputs": [
    {
     "name": "stdout",
     "output_type": "stream",
     "text": [
      "-1/2\n",
      "-1/8\n",
      "-1/18\n",
      "-1/32\n"
     ]
    }
   ],
   "source": [
    "for n in range(1,5):\n",
    "    print(sym.physics.hydrogen.E_nl(n,1))"
   ]
  },
  {
   "cell_type": "markdown",
   "metadata": {},
   "source": [
    "We can plot the hydrogen radial wavefunction (1s orbital)"
   ]
  },
  {
   "cell_type": "code",
   "execution_count": 68,
   "metadata": {},
   "outputs": [
    {
     "data": {
      "image/png": "[encoded data removed]",
      "text/latex": [
       "$$2 e^{- r}$$"
      ],
      "text/plain": [
       "   -r\n",
       "2⋅ℯ  "
      ]
     },
     "execution_count": 68,
     "metadata": {},
     "output_type": "execute_result"
    }
   ],
   "source": [
    "r = sympy.symbols('r')\n",
    "sympy.physics.hydrogen.R_nl(1, 0, r, 1)\n",
    "#Principle quantum, angular momentum, variable, and Z"
   ]
  },
  {
   "cell_type": "code",
   "execution_count": 69,
   "metadata": {},
   "outputs": [
    {
     "data": {
      "image/png": "[encoded data removed]",
      "text/plain": [
       "<Figure size 432x288 with 1 Axes>"
      ]
     },
     "metadata": {
      "needs_background": "light"
     },
     "output_type": "display_data"
    },
    {
     "data": {
      "text/plain": [
       "<sympy.plotting.plot.Plot at 0x11d813d68>"
      ]
     },
     "execution_count": 69,
     "metadata": {},
     "output_type": "execute_result"
    }
   ],
   "source": [
    "sym.plot(sympy.physics.hydrogen.R_nl(1, 0, r, 1),(r,0,10.50))"
   ]
  },
  {
   "cell_type": "markdown",
   "metadata": {},
   "source": [
    "And the probablity distribution function"
   ]
  },
  {
   "cell_type": "code",
   "execution_count": 70,
   "metadata": {},
   "outputs": [
    {
     "data": {
      "image/png": "[encoded data removed]",
      "text/latex": [
       "$$4 e^{- 2 r}$$"
      ],
      "text/plain": [
       "   -2⋅r\n",
       "4⋅ℯ    "
      ]
     },
     "execution_count": 70,
     "metadata": {},
     "output_type": "execute_result"
    }
   ],
   "source": [
    "sympy.symbols('r')\n",
    "prob_1s=sympy.physics.hydrogen.R_nl(1, 0, r, 1)*sympy.physics.hydrogen.R_nl(1, 0, r, 1)\n",
    "prob_1s\n",
    "#Principle quantum, angular momentum, variable, and Z"
   ]
  },
  {
   "cell_type": "code",
   "execution_count": 71,
   "metadata": {},
   "outputs": [
    {
     "data": {
      "image/png": "[encoded data removed]",
      "text/plain": [
       "<Figure size 432x288 with 1 Axes>"
      ]
     },
     "metadata": {
      "needs_background": "light"
     },
     "output_type": "display_data"
    },
    {
     "data": {
      "text/plain": [
       "<sympy.plotting.plot.Plot at 0x11d6f5c88>"
      ]
     },
     "execution_count": 71,
     "metadata": {},
     "output_type": "execute_result"
    }
   ],
   "source": [
    "sym.plot(prob_1s,(r,0,10))"
   ]
  },
  {
   "cell_type": "markdown",
   "metadata": {},
   "source": [
    "Plot a 2s orbital"
   ]
  },
  {
   "cell_type": "code",
   "execution_count": 72,
   "metadata": {},
   "outputs": [
    {
     "data": {
      "image/png": "[encoded data removed]",
      "text/latex": [
       "$$\\frac{\\left(- r + 2\\right)^{2} e^{- r}}{8}$$"
      ],
      "text/plain": [
       "        2  -r\n",
       "(-r + 2) ⋅ℯ  \n",
       "─────────────\n",
       "      8      "
      ]
     },
     "execution_count": 72,
     "metadata": {},
     "output_type": "execute_result"
    }
   ],
   "source": [
    "sympy.symbols('r')\n",
    "prob_2s=sympy.physics.hydrogen.R_nl(2, 0, r, 1)*sympy.physics.hydrogen.R_nl(2, 0, r, 1)\n",
    "prob_2s\n",
    "#Principle quantum, angular momentum, variable, and Z"
   ]
  },
  {
   "cell_type": "code",
   "execution_count": 73,
   "metadata": {
    "scrolled": true
   },
   "outputs": [
    {
     "data": {
      "image/png": "[encoded data removed]",
      "text/plain": [
       "<Figure size 432x288 with 1 Axes>"
      ]
     },
     "metadata": {
      "needs_background": "light"
     },
     "output_type": "display_data"
    },
    {
     "data": {
      "text/plain": [
       "<sympy.plotting.plot.Plot at 0x11db7fef0>"
      ]
     },
     "execution_count": 73,
     "metadata": {},
     "output_type": "execute_result"
    }
   ],
   "source": [
    "sym.plot(prob_2s,(r,0,10))"
   ]
  },
  {
   "cell_type": "markdown",
   "metadata": {},
   "source": [
    "We can change the range to see the node better."
   ]
  },
  {
   "cell_type": "code",
   "execution_count": 76,
   "metadata": {},
   "outputs": [
    {
     "data": {
      "image/png": "[encoded data removed]",
      "text/plain": [
       "<Figure size 432x288 with 1 Axes>"
      ]
     },
     "metadata": {
      "needs_background": "light"
     },
     "output_type": "display_data"
    },
    {
     "data": {
      "text/plain": [
       "<sympy.plotting.plot.Plot at 0x11ce8c4e0>"
      ]
     },
     "execution_count": 76,
     "metadata": {},
     "output_type": "execute_result"
    }
   ],
   "source": [
    "sym.plot(prob_2s,(r,1,8))"
   ]
  },
  {
   "cell_type": "markdown",
   "metadata": {},
   "source": [
    "Notice the node!"
   ]
  },
  {
   "cell_type": "markdown",
   "metadata": {},
   "source": [
    "### Exercise L1.1"
   ]
  },
  {
   "cell_type": "markdown",
   "metadata": {},
   "source": [
    "Plot the radial distriubution function for a 2p, 3s, 4s, and 3d orbital. "
   ]
  },
  {
   "cell_type": "code",
   "execution_count": 77,
   "metadata": {},
   "outputs": [
    {
     "name": "stdout",
     "output_type": "stream",
     "text": [
      "2p\n"
     ]
    },
    {
     "data": {
      "image/png": "[encoded data removed]",
      "text/latex": [
       "$$\\frac{r^{2} e^{- r}}{24}$$"
      ],
      "text/plain": [
       " 2  -r\n",
       "r ⋅ℯ  \n",
       "──────\n",
       "  24  "
      ]
     },
     "execution_count": 77,
     "metadata": {},
     "output_type": "execute_result"
    }
   ],
   "source": [
    "#I STILL HAVE TO DO 4S, AND 3D\n",
    "print(\"2p\")\n",
    "sympy.symbols('r')\n",
    "prob_2p=sympy.physics.hydrogen.R_nl(2, 1, r, 1)*sympy.physics.hydrogen.R_nl(2, 1, r, 1)\n",
    "prob_2p\n",
    "#Principle quantum, angular momentum, variable, and Z"
   ]
  },
  {
   "cell_type": "code",
   "execution_count": 79,
   "metadata": {},
   "outputs": [
    {
     "name": "stdout",
     "output_type": "stream",
     "text": [
      "2p\n"
     ]
    },
    {
     "data": {
      "image/png": "[encoded data removed]",
      "text/plain": [
       "<Figure size 432x288 with 1 Axes>"
      ]
     },
     "metadata": {
      "needs_background": "light"
     },
     "output_type": "display_data"
    },
    {
     "data": {
      "text/plain": [
       "<sympy.plotting.plot.Plot at 0x11df5ca20>"
      ]
     },
     "execution_count": 79,
     "metadata": {},
     "output_type": "execute_result"
    }
   ],
   "source": [
    "print(\"2p\")\n",
    "sym.plot(prob_2p,(r,-1.5,12))"
   ]
  },
  {
   "cell_type": "code",
   "execution_count": 81,
   "metadata": {},
   "outputs": [
    {
     "name": "stdout",
     "output_type": "stream",
     "text": [
      "3s\n"
     ]
    },
    {
     "data": {
      "image/png": "[encoded data removed]",
      "text/latex": [
       "$$\\frac{4 \\left(\\frac{2 r^{2}}{9} - 2 r + 3\\right)^{2} e^{- \\frac{2 r}{3}}}{243}$$"
      ],
      "text/plain": [
       "                  2  -2⋅r \n",
       "  ⎛   2          ⎞   ─────\n",
       "  ⎜2⋅r           ⎟     3  \n",
       "4⋅⎜──── - 2⋅r + 3⎟ ⋅ℯ     \n",
       "  ⎝ 9            ⎠        \n",
       "──────────────────────────\n",
       "           243            "
      ]
     },
     "execution_count": 81,
     "metadata": {},
     "output_type": "execute_result"
    }
   ],
   "source": [
    "print(\"3s\")\n",
    "sympy.symbols('r')\n",
    "prob_3s=sympy.physics.hydrogen.R_nl(3, 0, r, 1)*sympy.physics.hydrogen.R_nl(3, 0, r, 1)\n",
    "prob_3s"
   ]
  },
  {
   "cell_type": "code",
   "execution_count": 85,
   "metadata": {},
   "outputs": [
    {
     "name": "stdout",
     "output_type": "stream",
     "text": [
      "3s\n"
     ]
    },
    {
     "data": {
      "image/png": "[encoded data removed]",
      "text/plain": [
       "<Figure size 432x288 with 1 Axes>"
      ]
     },
     "metadata": {
      "needs_background": "light"
     },
     "output_type": "display_data"
    },
    {
     "data": {
      "text/plain": [
       "<sympy.plotting.plot.Plot at 0x11dbb5630>"
      ]
     },
     "execution_count": 85,
     "metadata": {},
     "output_type": "execute_result"
    }
   ],
   "source": [
    "print(\"3s\")\n",
    "sym.plot(prob_3s,(r,-1.5,12))"
   ]
  },
  {
   "cell_type": "code",
   "execution_count": 83,
   "metadata": {},
   "outputs": [
    {
     "name": "stdout",
     "output_type": "stream",
     "text": [
      "4s\n"
     ]
    },
    {
     "data": {
      "image/png": "[encoded data removed]",
      "text/latex": [
       "$$\\left(- \\frac{r^{3}}{768} + \\frac{r^{2}}{32} - \\frac{3 r}{16} + \\frac{1}{4}\\right)^{2} e^{- \\frac{r}{2}}$$"
      ],
      "text/plain": [
       "                      2  -r \n",
       "⎛    3    2          ⎞   ───\n",
       "⎜   r    r    3⋅r   1⎟    2 \n",
       "⎜- ─── + ── - ─── + ─⎟ ⋅ℯ   \n",
       "⎝  768   32    16   4⎠      "
      ]
     },
     "execution_count": 83,
     "metadata": {},
     "output_type": "execute_result"
    }
   ],
   "source": [
    "print(\"4s\")\n",
    "sympy.symbols('r')\n",
    "prob_4s=sympy.physics.hydrogen.R_nl(4, 0, r, 1)*sympy.physics.hydrogen.R_nl(4, 0, r, 1)\n",
    "prob_4s"
   ]
  },
  {
   "cell_type": "code",
   "execution_count": 86,
   "metadata": {},
   "outputs": [
    {
     "name": "stdout",
     "output_type": "stream",
     "text": [
      "4s\n"
     ]
    },
    {
     "data": {
      "image/png": "[encoded data removed]",
      "text/plain": [
       "<Figure size 432x288 with 1 Axes>"
      ]
     },
     "metadata": {
      "needs_background": "light"
     },
     "output_type": "display_data"
    },
    {
     "data": {
      "text/plain": [
       "<sympy.plotting.plot.Plot at 0x11e135f98>"
      ]
     },
     "execution_count": 86,
     "metadata": {},
     "output_type": "execute_result"
    }
   ],
   "source": [
    "print(\"4s\")\n",
    "sym.plot(prob_4s,(r,-1.5,12))"
   ]
  },
  {
   "cell_type": "code",
   "execution_count": 87,
   "metadata": {},
   "outputs": [
    {
     "name": "stdout",
     "output_type": "stream",
     "text": [
      "3d\n"
     ]
    },
    {
     "data": {
      "image/png": "[encoded data removed]",
      "text/latex": [
       "$$\\frac{8 r^{4} e^{- \\frac{2 r}{3}}}{98415}$$"
      ],
      "text/plain": [
       "      -2⋅r \n",
       "      ─────\n",
       "   4    3  \n",
       "8⋅r ⋅ℯ     \n",
       "───────────\n",
       "   98415   "
      ]
     },
     "execution_count": 87,
     "metadata": {},
     "output_type": "execute_result"
    }
   ],
   "source": [
    "print(\"3d\")\n",
    "sympy.symbols('r')\n",
    "prob_3d=sympy.physics.hydrogen.R_nl(3, 2, r, 1)*sympy.physics.hydrogen.R_nl(3, 2, r, 1)\n",
    "prob_3d"
   ]
  },
  {
   "cell_type": "code",
   "execution_count": 88,
   "metadata": {},
   "outputs": [
    {
     "name": "stdout",
     "output_type": "stream",
     "text": [
      "3d\n"
     ]
    },
    {
     "data": {
      "image/png": "[encoded data removed]",
      "text/plain": [
       "<Figure size 432x288 with 1 Axes>"
      ]
     },
     "metadata": {
      "needs_background": "light"
     },
     "output_type": "display_data"
    },
    {
     "data": {
      "text/plain": [
       "<sympy.plotting.plot.Plot at 0x11d9eb320>"
      ]
     },
     "execution_count": 88,
     "metadata": {},
     "output_type": "execute_result"
    }
   ],
   "source": [
    "print(\"3d\")\n",
    "sym.plot(prob_3d,(r,-1.5,12))"
   ]
  },
  {
   "cell_type": "code",
   "execution_count": null,
   "metadata": {},
   "outputs": [],
   "source": []
  }
 ],
 "metadata": {
  "kernelspec": {
   "display_name": "Python 3",
   "language": "python",
   "name": "python3"
  },
  "language_info": {
   "codemirror_mode": {
    "name": "ipython",
    "version": 3
   },
   "file_extension": ".py",
   "mimetype": "text/x-python",
   "name": "python",
   "nbconvert_exporter": "python",
   "pygments_lexer": "ipython3",
   "version": "3.7.1"
  }
 },
 "nbformat": 4,
 "nbformat_minor": 2
}
